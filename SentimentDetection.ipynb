{
  "nbformat": 4,
  "nbformat_minor": 0,
  "metadata": {
    "colab": {
      "name": "SentimentDetection.ipynb",
      "provenance": [],
      "authorship_tag": "ABX9TyPjF5gIiSF4/kvLbwlu41nG",
      "include_colab_link": true
    },
    "kernelspec": {
      "name": "python3",
      "display_name": "Python 3"
    },
    "language_info": {
      "name": "python"
    },
    "accelerator": "GPU"
  },
  "cells": [
    {
      "cell_type": "markdown",
      "metadata": {
        "id": "view-in-github",
        "colab_type": "text"
      },
      "source": [
        "<a href=\"https://colab.research.google.com/github/bhadreshpsavani/HuggingfaceModelTraining/blob/main/SentimentDetection.ipynb\" target=\"_parent\"><img src=\"https://colab.research.google.com/assets/colab-badge.svg\" alt=\"Open In Colab\"/></a>"
      ]
    },
    {
      "cell_type": "markdown",
      "metadata": {
        "id": "Zr9FOb57I-Q7"
      },
      "source": [
        "# Negative Sentiment Analysis\n",
        "\n",
        "The problem is to build and test a model that will predict the tone (neutral or negative) of the text message. To do this, you will need to train the model on the data provided. The resulting model has to predict the class (neutral or negative) and test results reported on test data that was not used to train the model. An ideal model should not miss predicting a negative tone in the message text.\n",
        "\n",
        "## Steps:\n",
        "  1. Import Data\n",
        "  2. Data Analysis\n",
        "  3. EDA on the data\n",
        "  4. Choice of model\n",
        "  5. Choice of evaluation metric\n",
        "  6. Accuracy of the model\n",
        "  7. Summary and analysis of the results … Where does the model fail? How would you improve predictions in future?\n",
        "\n",
        "## Step1. Import Data"
      ]
    },
    {
      "cell_type": "code",
      "metadata": {
        "id": "6EuYc4YJIYKu"
      },
      "source": [
        "import pandas as pd"
      ],
      "execution_count": 2,
      "outputs": []
    },
    {
      "cell_type": "code",
      "metadata": {
        "colab": {
          "base_uri": "https://localhost:8080/",
          "height": 204
        },
        "id": "W2jjSflRI9Qv",
        "outputId": "3b8c9632-761f-41cc-bb07-aeb7b88fe769"
      },
      "source": [
        "df = pd.read_csv('data.csv')\n",
        "df.head()"
      ],
      "execution_count": 3,
      "outputs": [
        {
          "output_type": "execute_result",
          "data": {
            "text/html": [
              "<div>\n",
              "<style scoped>\n",
              "    .dataframe tbody tr th:only-of-type {\n",
              "        vertical-align: middle;\n",
              "    }\n",
              "\n",
              "    .dataframe tbody tr th {\n",
              "        vertical-align: top;\n",
              "    }\n",
              "\n",
              "    .dataframe thead th {\n",
              "        text-align: right;\n",
              "    }\n",
              "</style>\n",
              "<table border=\"1\" class=\"dataframe\">\n",
              "  <thead>\n",
              "    <tr style=\"text-align: right;\">\n",
              "      <th></th>\n",
              "      <th>textID</th>\n",
              "      <th>text</th>\n",
              "      <th>sentiment</th>\n",
              "    </tr>\n",
              "  </thead>\n",
              "  <tbody>\n",
              "    <tr>\n",
              "      <th>0</th>\n",
              "      <td>2a0463352b</td>\n",
              "      <td>that`s enough! I`ll do nothing for 2 hours.</td>\n",
              "      <td>neutral</td>\n",
              "    </tr>\n",
              "    <tr>\n",
              "      <th>1</th>\n",
              "      <td>f358968122</td>\n",
              "      <td>I have to go clothes shopping tomorrow  I hate...</td>\n",
              "      <td>negative</td>\n",
              "    </tr>\n",
              "    <tr>\n",
              "      <th>2</th>\n",
              "      <td>449e7733f1</td>\n",
              "      <td>i am bored. :| any idea`s of a nice site?</td>\n",
              "      <td>neutral</td>\n",
              "    </tr>\n",
              "    <tr>\n",
              "      <th>3</th>\n",
              "      <td>6099baf6e8</td>\n",
              "      <td>I don`t think  will want to come back  (guys r...</td>\n",
              "      <td>negative</td>\n",
              "    </tr>\n",
              "    <tr>\n",
              "      <th>4</th>\n",
              "      <td>f946da7a04</td>\n",
              "      <td>_thomas if only the drinking game was tonight....</td>\n",
              "      <td>neutral</td>\n",
              "    </tr>\n",
              "  </tbody>\n",
              "</table>\n",
              "</div>"
            ],
            "text/plain": [
              "       textID                                               text sentiment\n",
              "0  2a0463352b        that`s enough! I`ll do nothing for 2 hours.   neutral\n",
              "1  f358968122  I have to go clothes shopping tomorrow  I hate...  negative\n",
              "2  449e7733f1          i am bored. :| any idea`s of a nice site?   neutral\n",
              "3  6099baf6e8  I don`t think  will want to come back  (guys r...  negative\n",
              "4  f946da7a04  _thomas if only the drinking game was tonight....   neutral"
            ]
          },
          "metadata": {
            "tags": []
          },
          "execution_count": 3
        }
      ]
    },
    {
      "cell_type": "markdown",
      "metadata": {
        "id": "Kd3_kMKPML3g"
      },
      "source": [
        "## Step2. Data Analysis:"
      ]
    },
    {
      "cell_type": "code",
      "metadata": {
        "colab": {
          "base_uri": "https://localhost:8080/"
        },
        "id": "QAzImNeUKC0K",
        "outputId": "f469944b-ad2f-4885-8490-9d7cf05f140c"
      },
      "source": [
        "df.sentiment.value_counts(normalize=True)"
      ],
      "execution_count": 4,
      "outputs": [
        {
          "output_type": "execute_result",
          "data": {
            "text/plain": [
              "neutral     0.591517\n",
              "negative    0.408483\n",
              "Name: sentiment, dtype: float64"
            ]
          },
          "metadata": {
            "tags": []
          },
          "execution_count": 4
        }
      ]
    },
    {
      "cell_type": "markdown",
      "metadata": {
        "id": "XToIAc3gKWZs"
      },
      "source": [
        "Observation: Our data is slighly imbalanced"
      ]
    },
    {
      "cell_type": "code",
      "metadata": {
        "colab": {
          "base_uri": "https://localhost:8080/"
        },
        "id": "av-Rx81gMEj6",
        "outputId": "6909e2ff-6655-4502-dd32-6d1db55bf331"
      },
      "source": [
        "df.info()"
      ],
      "execution_count": 5,
      "outputs": [
        {
          "output_type": "stream",
          "text": [
            "<class 'pandas.core.frame.DataFrame'>\n",
            "RangeIndex: 11955 entries, 0 to 11954\n",
            "Data columns (total 3 columns):\n",
            " #   Column     Non-Null Count  Dtype \n",
            "---  ------     --------------  ----- \n",
            " 0   textID     11955 non-null  object\n",
            " 1   text       11954 non-null  object\n",
            " 2   sentiment  11954 non-null  object\n",
            "dtypes: object(3)\n",
            "memory usage: 280.3+ KB\n"
          ],
          "name": "stdout"
        }
      ]
    },
    {
      "cell_type": "markdown",
      "metadata": {
        "id": "RF8_GEPTMdbR"
      },
      "source": [
        "According to above results, We have null value in `text` column which needs to be removed"
      ]
    },
    {
      "cell_type": "code",
      "metadata": {
        "colab": {
          "base_uri": "https://localhost:8080/"
        },
        "id": "R0izqeUSM2sI",
        "outputId": "43acfb13-e7e9-44a6-9b5f-a80039075bc9"
      },
      "source": [
        "df.dropna(inplace=True)\n",
        "df.info()"
      ],
      "execution_count": 6,
      "outputs": [
        {
          "output_type": "stream",
          "text": [
            "<class 'pandas.core.frame.DataFrame'>\n",
            "Int64Index: 11953 entries, 0 to 11953\n",
            "Data columns (total 3 columns):\n",
            " #   Column     Non-Null Count  Dtype \n",
            "---  ------     --------------  ----- \n",
            " 0   textID     11953 non-null  object\n",
            " 1   text       11953 non-null  object\n",
            " 2   sentiment  11953 non-null  object\n",
            "dtypes: object(3)\n",
            "memory usage: 373.5+ KB\n"
          ],
          "name": "stdout"
        }
      ]
    },
    {
      "cell_type": "code",
      "metadata": {
        "colab": {
          "base_uri": "https://localhost:8080/"
        },
        "id": "1VOGwI4aKJvW",
        "outputId": "fcc438ab-21e0-45c5-fbeb-b642027aaa0e"
      },
      "source": [
        "for i, text in enumerate(df.text[:20]):\n",
        "  print(i+1, \":\",  text)\n",
        "  print()"
      ],
      "execution_count": 7,
      "outputs": [
        {
          "output_type": "stream",
          "text": [
            "1 : that`s enough! I`ll do nothing for 2 hours.\n",
            "\n",
            "2 : I have to go clothes shopping tomorrow  I hate it, but I have a serious 'clothes falling apart' situation here.\n",
            "\n",
            "3 : i am bored. :| any idea`s of a nice site?\n",
            "\n",
            "4 : I don`t think  will want to come back  (guys read your dms)\n",
            "\n",
            "5 : _thomas if only the drinking game was tonight...I don`t have to work till 5 tomorrow\n",
            "\n",
            "6 : my birthday is in 2 days\n",
            "\n",
            "7 : I wish the sun would come out...I guess it doesn`t matter since I`m at work and can`t enjoy it anyways\n",
            "\n",
            "8 : I am very sad because I have gone on the show McFly fan I am of them!\n",
            "\n",
            "9 : no one ever gave me the info I`m sad\n",
            "\n",
            "10 : all tubes closed on 9th and 10th of june  any idea of how to get to the venue?\n",
            "\n",
            "11 : ****...plans were canceled.....another friday night at home\n",
            "\n",
            "12 :  always write holy words in capital dude, ALLAH HAFIZ !\n",
            "\n",
            "13 :  Dang! Of course, I`m just jealous `cuz I didn`t think of it first\n",
            "\n",
            "14 : yay!! we`ll all move!! sorry dh is being Grr...  ****\n",
            "\n",
            "15 : I had my hair cut today and my boyfriend didn`t notice....\n",
            "\n",
            "16 : _ I wish you were here NOWWW!!! grrrrrrr\n",
            "\n",
            "17 : FreeSat`s coverage (Sky dish) is really, really bad at the moment, blocks all over the place, really annoying!\n",
            "\n",
            "18 : How about SUSE?\n",
            "\n",
            "19 : And you!\n",
            "\n",
            "20 :   SAimee 26 july, Underage festival 2 August, i found some others but they were too far away\n",
            "\n"
          ],
          "name": "stdout"
        }
      ]
    },
    {
      "cell_type": "markdown",
      "metadata": {
        "id": "GIQ1GgJsKvuR"
      },
      "source": [
        "Observation: We need to clean up our text data. It's having `:|` or `****` kind of item which will not be very effective to train an ML model"
      ]
    },
    {
      "cell_type": "code",
      "metadata": {
        "colab": {
          "base_uri": "https://localhost:8080/",
          "height": 282
        },
        "id": "3F8X_g9tKgbF",
        "outputId": "1c2b417a-f8d3-4bb8-9a55-40124f36a981"
      },
      "source": [
        "df[\"number_of_words\"] = df.text.apply(lambda txt: len(txt.split()))\n",
        "df[\"number_of_words\"].hist()"
      ],
      "execution_count": 16,
      "outputs": [
        {
          "output_type": "execute_result",
          "data": {
            "text/plain": [
              "<matplotlib.axes._subplots.AxesSubplot at 0x7f419566bbd0>"
            ]
          },
          "metadata": {
            "tags": []
          },
          "execution_count": 16
        },
        {
          "output_type": "display_data",
          "data": {
            "image/png": "[encoded data removed]",
            "text/plain": [
              "<Figure size 432x288 with 1 Axes>"
            ]
          },
          "metadata": {
            "tags": [],
            "needs_background": "light"
          }
        }
      ]
    },
    {
      "cell_type": "code",
      "metadata": {
        "colab": {
          "base_uri": "https://localhost:8080/"
        },
        "id": "iOT2s0KBNWn5",
        "outputId": "c14b3687-7bef-4da2-b0de-565202527b13"
      },
      "source": [
        "df[\"number_of_words\"].value_counts(normalize=True)"
      ],
      "execution_count": 17,
      "outputs": [
        {
          "output_type": "execute_result",
          "data": {
            "text/plain": [
              "8     0.057726\n",
              "7     0.057140\n",
              "9     0.055802\n",
              "10    0.053376\n",
              "6     0.053041\n",
              "5     0.052455\n",
              "4     0.050950\n",
              "12    0.047603\n",
              "11    0.046516\n",
              "13    0.041914\n",
              "14    0.040576\n",
              "15    0.037145\n",
              "3     0.036476\n",
              "16    0.034803\n",
              "17    0.033632\n",
              "20    0.033548\n",
              "19    0.032628\n",
              "18    0.032293\n",
              "21    0.031708\n",
              "22    0.027357\n",
              "23    0.025851\n",
              "24    0.023174\n",
              "25    0.022839\n",
              "2     0.019493\n",
              "26    0.014641\n",
              "27    0.011127\n",
              "28    0.009286\n",
              "1     0.008868\n",
              "29    0.003597\n",
              "30    0.002593\n",
              "31    0.001339\n",
              "32    0.000418\n",
              "33    0.000084\n",
              "Name: number_of_words, dtype: float64"
            ]
          },
          "metadata": {
            "tags": []
          },
          "execution_count": 17
        }
      ]
    },
    {
      "cell_type": "code",
      "metadata": {
        "colab": {
          "base_uri": "https://localhost:8080/",
          "height": 419
        },
        "id": "0gUOTkfTMAaw",
        "outputId": "9808229c-c95d-40f7-f6eb-e35323663c4f"
      },
      "source": [
        "df.query(\"number_of_words<=1\")"
      ],
      "execution_count": 18,
      "outputs": [
        {
          "output_type": "execute_result",
          "data": {
            "text/html": [
              "<div>\n",
              "<style scoped>\n",
              "    .dataframe tbody tr th:only-of-type {\n",
              "        vertical-align: middle;\n",
              "    }\n",
              "\n",
              "    .dataframe tbody tr th {\n",
              "        vertical-align: top;\n",
              "    }\n",
              "\n",
              "    .dataframe thead th {\n",
              "        text-align: right;\n",
              "    }\n",
              "</style>\n",
              "<table border=\"1\" class=\"dataframe\">\n",
              "  <thead>\n",
              "    <tr style=\"text-align: right;\">\n",
              "      <th></th>\n",
              "      <th>textID</th>\n",
              "      <th>text</th>\n",
              "      <th>sentiment</th>\n",
              "      <th>number_of_words</th>\n",
              "    </tr>\n",
              "  </thead>\n",
              "  <tbody>\n",
              "    <tr>\n",
              "      <th>60</th>\n",
              "      <td>823122597e</td>\n",
              "      <td>mean</td>\n",
              "      <td>neutral</td>\n",
              "      <td>1</td>\n",
              "    </tr>\n",
              "    <tr>\n",
              "      <th>194</th>\n",
              "      <td>47990d2312</td>\n",
              "      <td>BRAINFREEZE</td>\n",
              "      <td>neutral</td>\n",
              "      <td>1</td>\n",
              "    </tr>\n",
              "    <tr>\n",
              "      <th>288</th>\n",
              "      <td>397392f0d9</td>\n",
              "      <td>WORD!!!!!</td>\n",
              "      <td>neutral</td>\n",
              "      <td>1</td>\n",
              "    </tr>\n",
              "    <tr>\n",
              "      <th>323</th>\n",
              "      <td>25ddc5bea5</td>\n",
              "      <td>ruilen?</td>\n",
              "      <td>neutral</td>\n",
              "      <td>1</td>\n",
              "    </tr>\n",
              "    <tr>\n",
              "      <th>634</th>\n",
              "      <td>4f91f17179</td>\n",
              "      <td>boo</td>\n",
              "      <td>neutral</td>\n",
              "      <td>1</td>\n",
              "    </tr>\n",
              "    <tr>\n",
              "      <th>...</th>\n",
              "      <td>...</td>\n",
              "      <td>...</td>\n",
              "      <td>...</td>\n",
              "      <td>...</td>\n",
              "    </tr>\n",
              "    <tr>\n",
              "      <th>11541</th>\n",
              "      <td>3c8698c64b</td>\n",
              "      <td>yup</td>\n",
              "      <td>neutral</td>\n",
              "      <td>1</td>\n",
              "    </tr>\n",
              "    <tr>\n",
              "      <th>11558</th>\n",
              "      <td>65a9dd6348</td>\n",
              "      <td>byeeeee</td>\n",
              "      <td>neutral</td>\n",
              "      <td>1</td>\n",
              "    </tr>\n",
              "    <tr>\n",
              "      <th>11570</th>\n",
              "      <td>50f5c4bba5</td>\n",
              "      <td>upgraded</td>\n",
              "      <td>neutral</td>\n",
              "      <td>1</td>\n",
              "    </tr>\n",
              "    <tr>\n",
              "      <th>11577</th>\n",
              "      <td>044c845832</td>\n",
              "      <td>yes</td>\n",
              "      <td>neutral</td>\n",
              "      <td>1</td>\n",
              "    </tr>\n",
              "    <tr>\n",
              "      <th>11861</th>\n",
              "      <td>de8ac63636</td>\n",
              "      <td>Pinkberry</td>\n",
              "      <td>neutral</td>\n",
              "      <td>1</td>\n",
              "    </tr>\n",
              "  </tbody>\n",
              "</table>\n",
              "<p>106 rows × 4 columns</p>\n",
              "</div>"
            ],
            "text/plain": [
              "           textID         text sentiment  number_of_words\n",
              "60     823122597e         mean   neutral                1\n",
              "194    47990d2312  BRAINFREEZE   neutral                1\n",
              "288    397392f0d9    WORD!!!!!   neutral                1\n",
              "323    25ddc5bea5      ruilen?   neutral                1\n",
              "634    4f91f17179          boo   neutral                1\n",
              "...           ...          ...       ...              ...\n",
              "11541  3c8698c64b          yup   neutral                1\n",
              "11558  65a9dd6348      byeeeee   neutral                1\n",
              "11570  50f5c4bba5     upgraded   neutral                1\n",
              "11577  044c845832          yes   neutral                1\n",
              "11861  de8ac63636    Pinkberry   neutral                1\n",
              "\n",
              "[106 rows x 4 columns]"
            ]
          },
          "metadata": {
            "tags": []
          },
          "execution_count": 18
        }
      ]
    },
    {
      "cell_type": "markdown",
      "metadata": {
        "id": "Kwz1hbPVOGmM"
      },
      "source": [
        "Our data is having `www.youtube.com/watch?v=9FtuV3xMrN0` kind of text, we can't ignore/ remove such data. It doesn't convery much  but when user enters such data model should be able to handle such cases and correctly classify them. "
      ]
    },
    {
      "cell_type": "markdown",
      "metadata": {
        "id": "U4I_W-vLQG37"
      },
      "source": [
        "## Create Train and Test Data:"
      ]
    },
    {
      "cell_type": "code",
      "metadata": {
        "id": "V18HGZEFPKnh"
      },
      "source": [
        "sentimental_data = df[['text', 'sentiment']]"
      ],
      "execution_count": 19,
      "outputs": []
    },
    {
      "cell_type": "code",
      "metadata": {
        "id": "9mSt5K99NSqm"
      },
      "source": [
        "# to evenly divide train and test dataset\n",
        "from sklearn.model_selection import StratifiedShuffleSplit\n",
        "\n",
        "split = StratifiedShuffleSplit(n_splits=1, test_size=0.2, random_state=42)\n",
        "for train_index, test_index in split.split(sentimental_data, sentimental_data[\"sentiment\"]):\n",
        "    strat_train_set = sentimental_data.iloc[train_index]\n",
        "    strat_test_set = sentimental_data.iloc[test_index]"
      ],
      "execution_count": 20,
      "outputs": []
    },
    {
      "cell_type": "code",
      "metadata": {
        "colab": {
          "base_uri": "https://localhost:8080/"
        },
        "id": "QprRgHrePwfk",
        "outputId": "44532b06-ef73-4ea1-d1ba-2d58fbe89ab8"
      },
      "source": [
        "sentimental_data.sentiment.value_counts(normalize=True)"
      ],
      "execution_count": 21,
      "outputs": [
        {
          "output_type": "execute_result",
          "data": {
            "text/plain": [
              "neutral     0.591483\n",
              "negative    0.408517\n",
              "Name: sentiment, dtype: float64"
            ]
          },
          "metadata": {
            "tags": []
          },
          "execution_count": 21
        }
      ]
    },
    {
      "cell_type": "code",
      "metadata": {
        "colab": {
          "base_uri": "https://localhost:8080/"
        },
        "id": "RMw5kYJsQAYx",
        "outputId": "f459e4c2-6f3d-4c6d-d486-24bc5fc5ca03"
      },
      "source": [
        "strat_train_set.sentiment.value_counts(normalize=True)"
      ],
      "execution_count": 22,
      "outputs": [
        {
          "output_type": "execute_result",
          "data": {
            "text/plain": [
              "neutral     0.591508\n",
              "negative    0.408492\n",
              "Name: sentiment, dtype: float64"
            ]
          },
          "metadata": {
            "tags": []
          },
          "execution_count": 22
        }
      ]
    },
    {
      "cell_type": "code",
      "metadata": {
        "colab": {
          "base_uri": "https://localhost:8080/"
        },
        "id": "MeXwNcR2QCf5",
        "outputId": "a5be87b3-a451-458a-a511-521b4744f6b9"
      },
      "source": [
        "strat_test_set.sentiment.value_counts(normalize=True)"
      ],
      "execution_count": 23,
      "outputs": [
        {
          "output_type": "execute_result",
          "data": {
            "text/plain": [
              "neutral     0.591384\n",
              "negative    0.408616\n",
              "Name: sentiment, dtype: float64"
            ]
          },
          "metadata": {
            "tags": []
          },
          "execution_count": 23
        }
      ]
    },
    {
      "cell_type": "code",
      "metadata": {
        "id": "046fTaGlUAsg"
      },
      "source": [
        "strat_train_set.columns = ['sentence1', 'label']\n",
        "strat_test_set.columns = ['sentence1', 'label']"
      ],
      "execution_count": 24,
      "outputs": []
    },
    {
      "cell_type": "code",
      "metadata": {
        "colab": {
          "base_uri": "https://localhost:8080/",
          "height": 204
        },
        "id": "1ln1Lt-TT0eB",
        "outputId": "2c572954-4e4a-4385-d204-8a8f0f4b15d5"
      },
      "source": [
        "strat_train_set.head()"
      ],
      "execution_count": 25,
      "outputs": [
        {
          "output_type": "execute_result",
          "data": {
            "text/html": [
              "<div>\n",
              "<style scoped>\n",
              "    .dataframe tbody tr th:only-of-type {\n",
              "        vertical-align: middle;\n",
              "    }\n",
              "\n",
              "    .dataframe tbody tr th {\n",
              "        vertical-align: top;\n",
              "    }\n",
              "\n",
              "    .dataframe thead th {\n",
              "        text-align: right;\n",
              "    }\n",
              "</style>\n",
              "<table border=\"1\" class=\"dataframe\">\n",
              "  <thead>\n",
              "    <tr style=\"text-align: right;\">\n",
              "      <th></th>\n",
              "      <th>sentence1</th>\n",
              "      <th>label</th>\n",
              "    </tr>\n",
              "  </thead>\n",
              "  <tbody>\n",
              "    <tr>\n",
              "      <th>1635</th>\n",
              "      <td>owww i think i tore something in my leg</td>\n",
              "      <td>negative</td>\n",
              "    </tr>\n",
              "    <tr>\n",
              "      <th>10580</th>\n",
              "      <td>Hi  how are you doing ???  *just joined twitte...</td>\n",
              "      <td>neutral</td>\n",
              "    </tr>\n",
              "    <tr>\n",
              "      <th>4696</th>\n",
              "      <td>off to go buy more deck sleeves and 3X3 card p...</td>\n",
              "      <td>negative</td>\n",
              "    </tr>\n",
              "    <tr>\n",
              "      <th>6458</th>\n",
              "      <td>You really are always dirty!!! Ha ha!!!! Do yo...</td>\n",
              "      <td>negative</td>\n",
              "    </tr>\n",
              "    <tr>\n",
              "      <th>1172</th>\n",
              "      <td>got **** stranger  lol</td>\n",
              "      <td>neutral</td>\n",
              "    </tr>\n",
              "  </tbody>\n",
              "</table>\n",
              "</div>"
            ],
            "text/plain": [
              "                                               sentence1     label\n",
              "1635             owww i think i tore something in my leg  negative\n",
              "10580  Hi  how are you doing ???  *just joined twitte...   neutral\n",
              "4696   off to go buy more deck sleeves and 3X3 card p...  negative\n",
              "6458   You really are always dirty!!! Ha ha!!!! Do yo...  negative\n",
              "1172                              got **** stranger  lol   neutral"
            ]
          },
          "metadata": {
            "tags": []
          },
          "execution_count": 25
        }
      ]
    },
    {
      "cell_type": "code",
      "metadata": {
        "id": "KkIuCCKxULBo"
      },
      "source": [
        "strat_train_set.to_csv(\"train.csv\", index=False)\n",
        "strat_test_set.to_csv(\"val.csv\", index=False)"
      ],
      "execution_count": 26,
      "outputs": []
    },
    {
      "cell_type": "markdown",
      "metadata": {
        "id": "4m7T31GYRMMX"
      },
      "source": [
        "We divided data in training and testset with equal labeling distribution\n",
        "\n",
        "## Choice of model:\n",
        "\n",
        "We will choose transformer based model like bert, roberta for training. Based on various experiments. According to Experiments done on https://github.com/bentrevett/pytorch-seq2seq on Setimental Analysis task Attention based model like Bert Provide better results on this task"
      ]
    },
    {
      "cell_type": "code",
      "metadata": {
        "colab": {
          "base_uri": "https://localhost:8080/"
        },
        "id": "1FV7KIx4QFAj",
        "outputId": "3a3b3482-f163-473e-f288-f3f157f98f71"
      },
      "source": [
        "!git clone  https://github.com/huggingface/transformers.git\n",
        "%cd transformers\n",
        "!pip install -q .\n",
        "!pip install -q -r ./examples/tensorflow/text-classification/requirements.txt"
      ],
      "execution_count": 27,
      "outputs": [
        {
          "output_type": "stream",
          "text": [
            "Cloning into 'transformers'...\n",
            "remote: Enumerating objects: 72060, done.\u001b[K\n",
            "remote: Counting objects: 100% (86/86), done.\u001b[K\n",
            "remote: Compressing objects: 100% (71/71), done.\u001b[K\n",
            "remote: Total 72060 (delta 24), reused 41 (delta 11), pack-reused 71974\u001b[K\n",
            "Receiving objects: 100% (72060/72060), 54.76 MiB | 29.10 MiB/s, done.\n",
            "Resolving deltas: 100% (51165/51165), done.\n",
            "/content/transformers\n",
            "  Installing build dependencies ... \u001b[?25l\u001b[?25hdone\n",
            "  Getting requirements to build wheel ... \u001b[?25l\u001b[?25hdone\n",
            "    Preparing wheel metadata ... \u001b[?25l\u001b[?25hdone\n",
            "\u001b[K     |████████████████████████████████| 3.3MB 9.9MB/s \n",
            "\u001b[K     |████████████████████████████████| 901kB 51.3MB/s \n",
            "\u001b[?25h  Building wheel for transformers (PEP 517) ... \u001b[?25l\u001b[?25hdone\n",
            "\u001b[K     |████████████████████████████████| 225kB 9.9MB/s \n",
            "\u001b[K     |████████████████████████████████| 1.2MB 17.7MB/s \n",
            "\u001b[K     |████████████████████████████████| 245kB 48.5MB/s \n",
            "\u001b[K     |████████████████████████████████| 112kB 49.5MB/s \n",
            "\u001b[?25h"
          ],
          "name": "stdout"
        }
      ]
    },
    {
      "cell_type": "code",
      "metadata": {
        "colab": {
          "base_uri": "https://localhost:8080/"
        },
        "id": "MI9utCEeTqmX",
        "outputId": "1782859d-0d37-4455-bd69-1946586e6530"
      },
      "source": [
        "%cd .."
      ],
      "execution_count": 28,
      "outputs": [
        {
          "output_type": "stream",
          "text": [
            "/content\n"
          ],
          "name": "stdout"
        }
      ]
    },
    {
      "cell_type": "code",
      "metadata": {
        "colab": {
          "base_uri": "https://localhost:8080/"
        },
        "id": "a4jA3Oo6Tec4",
        "outputId": "e7056e39-414d-4cfc-d5e5-7f2ba03d5298"
      },
      "source": [
        "!python transformers/examples/tensorflow/text-classification/run_text_classification.py \\\n",
        "--model_name_or_path distilbert-base-cased \\\n",
        "--train_file train.csv \\\n",
        "--validation_file val.csv \\\n",
        "--max_seq_length 64 \\\n",
        "--per_device_train_batch_size 32 \\\n",
        "--per_device_eval_batch_size 32 \\\n",
        "--output_dir output/ \\"
      ],
      "execution_count": 30,
      "outputs": [
        {
          "output_type": "stream",
          "text": [
            "2021-05-08 14:20:41.133956: I tensorflow/stream_executor/platform/default/dso_loader.cc:49] Successfully opened dynamic library libcudart.so.11.0\n",
            "05/08/2021 14:20:42 - INFO - __main__ -   Training/evaluation parameters TFTrainingArguments(output_dir='output/', overwrite_output_dir=False, do_train=False, do_eval=False, do_predict=False, evaluation_strategy=<IntervalStrategy.NO: 'no'>, prediction_loss_only=False, per_device_train_batch_size=32, per_device_eval_batch_size=32, per_gpu_train_batch_size=None, per_gpu_eval_batch_size=None, gradient_accumulation_steps=1, eval_accumulation_steps=None, learning_rate=5e-05, weight_decay=0.0, adam_beta1=0.9, adam_beta2=0.999, adam_epsilon=1e-08, max_grad_norm=1.0, num_train_epochs=3.0, max_steps=-1, lr_scheduler_type=<SchedulerType.LINEAR: 'linear'>, warmup_ratio=0.0, warmup_steps=0, logging_dir='runs/May08_14-20-42_46ba2ec0e02c', logging_strategy=<IntervalStrategy.STEPS: 'steps'>, logging_first_step=False, logging_steps=500, save_strategy=<IntervalStrategy.STEPS: 'steps'>, save_steps=500, save_total_limit=None, no_cuda=False, seed=42, fp16=False, fp16_opt_level='O1', fp16_backend='auto', fp16_full_eval=False, local_rank=-1, tpu_num_cores=None, tpu_metrics_debug=False, debug=[], dataloader_drop_last=False, eval_steps=500, dataloader_num_workers=0, past_index=-1, run_name='output/', disable_tqdm=False, remove_unused_columns=True, label_names=None, load_best_model_at_end=False, metric_for_best_model=None, greater_is_better=None, ignore_data_skip=False, sharded_ddp=[], deepspeed=None, label_smoothing_factor=0.0, adafactor=False, group_by_length=False, length_column_name='length', report_to=['tensorboard'], ddp_find_unused_parameters=None, dataloader_pin_memory=True, skip_memory_metrics=False, use_legacy_prediction_loop=False, push_to_hub=False, resume_from_checkpoint=None, mp_parameters='', tpu_name=None, tpu_zone=None, gcp_project=None, poly_power=1.0, xla=False)\n",
            "05/08/2021 14:20:42 - INFO - __main__ -   Loading a local file for train: train.csv\n",
            "05/08/2021 14:20:42 - INFO - __main__ -   Loading a local file for validation: val.csv\n",
            "05/08/2021 14:20:43 - WARNING - datasets.builder -   Using custom data configuration default-6fac412ca6e48153\n",
            "Downloading and preparing dataset csv/default (download: Unknown size, generated: Unknown size, post-processed: Unknown size, total: Unknown size) to /root/.cache/huggingface/datasets/csv/default-6fac412ca6e48153/0.0.0/2dc6629a9ff6b5697d82c25b73731dd440507a69cbce8b425db50b751e8fcfd0...\n",
            "Dataset csv downloaded and prepared to /root/.cache/huggingface/datasets/csv/default-6fac412ca6e48153/0.0.0/2dc6629a9ff6b5697d82c25b73731dd440507a69cbce8b425db50b751e8fcfd0. Subsequent calls will reuse this data.\n",
            "Downloading: 100% 411/411 [00:00<00:00, 400kB/s]\n",
            "Downloading: 100% 213k/213k [00:00<00:00, 358kB/s]\n",
            "Downloading: 100% 436k/436k [00:01<00:00, 315kB/s] \n",
            "Downloading: 100% 29.0/29.0 [00:00<00:00, 24.8kB/s]\n",
            "100% 10/10 [00:00<00:00, 27.74ba/s]\n",
            "100% 3/3 [00:00<00:00, 34.33ba/s]\n",
            "2021-05-08 14:21:02.042128: I tensorflow/compiler/jit/xla_cpu_device.cc:41] Not creating XLA devices, tf_xla_enable_xla_devices not set\n",
            "2021-05-08 14:21:02.042421: I tensorflow/stream_executor/platform/default/dso_loader.cc:49] Successfully opened dynamic library libcuda.so.1\n",
            "2021-05-08 14:21:02.042760: I tensorflow/stream_executor/cuda/cuda_gpu_executor.cc:941] successful NUMA node read from SysFS had negative value (-1), but there must be at least one NUMA node, so returning NUMA node zero\n",
            "2021-05-08 14:21:02.043443: I tensorflow/core/common_runtime/gpu/gpu_device.cc:1720] Found device 0 with properties: \n",
            "pciBusID: 0000:00:04.0 name: Tesla T4 computeCapability: 7.5\n",
            "coreClock: 1.59GHz coreCount: 40 deviceMemorySize: 14.75GiB deviceMemoryBandwidth: 298.08GiB/s\n",
            "2021-05-08 14:21:02.043503: I tensorflow/stream_executor/platform/default/dso_loader.cc:49] Successfully opened dynamic library libcudart.so.11.0\n",
            "2021-05-08 14:21:02.159049: I tensorflow/stream_executor/platform/default/dso_loader.cc:49] Successfully opened dynamic library libcublas.so.11\n",
            "2021-05-08 14:21:02.159167: I tensorflow/stream_executor/platform/default/dso_loader.cc:49] Successfully opened dynamic library libcublasLt.so.11\n",
            "2021-05-08 14:21:02.290618: I tensorflow/stream_executor/platform/default/dso_loader.cc:49] Successfully opened dynamic library libcufft.so.10\n",
            "2021-05-08 14:21:02.347853: I tensorflow/stream_executor/platform/default/dso_loader.cc:49] Successfully opened dynamic library libcurand.so.10\n",
            "2021-05-08 14:21:02.583227: I tensorflow/stream_executor/platform/default/dso_loader.cc:49] Successfully opened dynamic library libcusolver.so.10\n",
            "2021-05-08 14:21:02.641329: I tensorflow/stream_executor/platform/default/dso_loader.cc:49] Successfully opened dynamic library libcusparse.so.11\n",
            "2021-05-08 14:21:02.645563: I tensorflow/stream_executor/platform/default/dso_loader.cc:49] Successfully opened dynamic library libcudnn.so.8\n",
            "2021-05-08 14:21:02.645756: I tensorflow/stream_executor/cuda/cuda_gpu_executor.cc:941] successful NUMA node read from SysFS had negative value (-1), but there must be at least one NUMA node, so returning NUMA node zero\n",
            "2021-05-08 14:21:02.646612: I tensorflow/stream_executor/cuda/cuda_gpu_executor.cc:941] successful NUMA node read from SysFS had negative value (-1), but there must be at least one NUMA node, so returning NUMA node zero\n",
            "2021-05-08 14:21:02.649870: I tensorflow/core/common_runtime/gpu/gpu_device.cc:1862] Adding visible gpu devices: 0\n",
            "2021-05-08 14:21:02.650707: I tensorflow/compiler/jit/xla_gpu_device.cc:99] Not creating XLA devices, tf_xla_enable_xla_devices not set\n",
            "2021-05-08 14:21:02.650861: I tensorflow/stream_executor/cuda/cuda_gpu_executor.cc:941] successful NUMA node read from SysFS had negative value (-1), but there must be at least one NUMA node, so returning NUMA node zero\n",
            "2021-05-08 14:21:02.651438: I tensorflow/core/common_runtime/gpu/gpu_device.cc:1720] Found device 0 with properties: \n",
            "pciBusID: 0000:00:04.0 name: Tesla T4 computeCapability: 7.5\n",
            "coreClock: 1.59GHz coreCount: 40 deviceMemorySize: 14.75GiB deviceMemoryBandwidth: 298.08GiB/s\n",
            "2021-05-08 14:21:02.651488: I tensorflow/stream_executor/platform/default/dso_loader.cc:49] Successfully opened dynamic library libcudart.so.11.0\n",
            "2021-05-08 14:21:02.651528: I tensorflow/stream_executor/platform/default/dso_loader.cc:49] Successfully opened dynamic library libcublas.so.11\n",
            "2021-05-08 14:21:02.651552: I tensorflow/stream_executor/platform/default/dso_loader.cc:49] Successfully opened dynamic library libcublasLt.so.11\n",
            "2021-05-08 14:21:02.651575: I tensorflow/stream_executor/platform/default/dso_loader.cc:49] Successfully opened dynamic library libcufft.so.10\n",
            "2021-05-08 14:21:02.651599: I tensorflow/stream_executor/platform/default/dso_loader.cc:49] Successfully opened dynamic library libcurand.so.10\n",
            "2021-05-08 14:21:02.651619: I tensorflow/stream_executor/platform/default/dso_loader.cc:49] Successfully opened dynamic library libcusolver.so.10\n",
            "2021-05-08 14:21:02.651639: I tensorflow/stream_executor/platform/default/dso_loader.cc:49] Successfully opened dynamic library libcusparse.so.11\n",
            "2021-05-08 14:21:02.651659: I tensorflow/stream_executor/platform/default/dso_loader.cc:49] Successfully opened dynamic library libcudnn.so.8\n",
            "2021-05-08 14:21:02.651726: I tensorflow/stream_executor/cuda/cuda_gpu_executor.cc:941] successful NUMA node read from SysFS had negative value (-1), but there must be at least one NUMA node, so returning NUMA node zero\n",
            "2021-05-08 14:21:02.652337: I tensorflow/stream_executor/cuda/cuda_gpu_executor.cc:941] successful NUMA node read from SysFS had negative value (-1), but there must be at least one NUMA node, so returning NUMA node zero\n",
            "2021-05-08 14:21:02.652863: I tensorflow/core/common_runtime/gpu/gpu_device.cc:1862] Adding visible gpu devices: 0\n",
            "2021-05-08 14:21:02.655274: I tensorflow/stream_executor/platform/default/dso_loader.cc:49] Successfully opened dynamic library libcudart.so.11.0\n",
            "2021-05-08 14:21:07.051874: I tensorflow/core/common_runtime/gpu/gpu_device.cc:1261] Device interconnect StreamExecutor with strength 1 edge matrix:\n",
            "2021-05-08 14:21:07.051929: I tensorflow/core/common_runtime/gpu/gpu_device.cc:1267]      0 \n",
            "2021-05-08 14:21:07.051942: I tensorflow/core/common_runtime/gpu/gpu_device.cc:1280] 0:   N \n",
            "2021-05-08 14:21:07.056627: I tensorflow/stream_executor/cuda/cuda_gpu_executor.cc:941] successful NUMA node read from SysFS had negative value (-1), but there must be at least one NUMA node, so returning NUMA node zero\n",
            "2021-05-08 14:21:07.057325: I tensorflow/stream_executor/cuda/cuda_gpu_executor.cc:941] successful NUMA node read from SysFS had negative value (-1), but there must be at least one NUMA node, so returning NUMA node zero\n",
            "2021-05-08 14:21:07.057926: I tensorflow/stream_executor/cuda/cuda_gpu_executor.cc:941] successful NUMA node read from SysFS had negative value (-1), but there must be at least one NUMA node, so returning NUMA node zero\n",
            "2021-05-08 14:21:07.058433: W tensorflow/core/common_runtime/gpu/gpu_bfc_allocator.cc:39] Overriding allow_growth setting because the TF_FORCE_GPU_ALLOW_GROWTH environment variable is set. Original config value was 0.\n",
            "2021-05-08 14:21:07.058483: I tensorflow/core/common_runtime/gpu/gpu_device.cc:1406] Created TensorFlow device (/job:localhost/replica:0/task:0/device:GPU:0 with 13994 MB memory) -> physical GPU (device: 0, name: Tesla T4, pci bus id: 0000:00:04.0, compute capability: 7.5)\n",
            "Downloading: 100% 354M/354M [00:05<00:00, 66.7MB/s]\n",
            "2021-05-08 14:21:22.078449: W tensorflow/python/util/util.cc:348] Sets are not currently considered sequences, but this may change in the future, so consider avoiding using them.\n",
            "2021-05-08 14:21:22.202170: I tensorflow/stream_executor/platform/default/dso_loader.cc:49] Successfully opened dynamic library libcublas.so.11\n",
            "2021-05-08 14:21:24.803049: I tensorflow/stream_executor/platform/default/dso_loader.cc:49] Successfully opened dynamic library libcublasLt.so.11\n",
            "Some layers from the model checkpoint at distilbert-base-cased were not used when initializing TFDistilBertForSequenceClassification: ['vocab_layer_norm', 'activation_13', 'vocab_transform', 'vocab_projector']\n",
            "- This IS expected if you are initializing TFDistilBertForSequenceClassification from the checkpoint of a model trained on another task or with another architecture (e.g. initializing a BertForSequenceClassification model from a BertForPreTraining model).\n",
            "- This IS NOT expected if you are initializing TFDistilBertForSequenceClassification from the checkpoint of a model that you expect to be exactly identical (initializing a BertForSequenceClassification model from a BertForSequenceClassification model).\n",
            "Some layers of TFDistilBertForSequenceClassification were not initialized from the model checkpoint at distilbert-base-cased and are newly initialized: ['pre_classifier', 'classifier', 'dropout_19']\n",
            "You should probably TRAIN this model on a down-stream task to be able to use it for predictions and inference.\n",
            "2021-05-08 14:21:27.057743: W tensorflow/core/grappler/optimizers/data/auto_shard.cc:656] In AUTO-mode, and switching to DATA-based sharding, instead of FILE-based sharding as we cannot find appropriate reader dataset op(s) to shard. Error: Found an unshardable source dataset: name: \"TensorSliceDataset/_3\"\n",
            "op: \"TensorSliceDataset\"\n",
            "input: \"Placeholder/_0\"\n",
            "input: \"Placeholder/_1\"\n",
            "input: \"Placeholder/_2\"\n",
            "attr {\n",
            "  key: \"Toutput_types\"\n",
            "  value {\n",
            "    list {\n",
            "      type: DT_VARIANT\n",
            "      type: DT_VARIANT\n",
            "      type: DT_INT64\n",
            "    }\n",
            "  }\n",
            "}\n",
            "attr {\n",
            "  key: \"output_shapes\"\n",
            "  value {\n",
            "    list {\n",
            "      shape {\n",
            "      }\n",
            "      shape {\n",
            "      }\n",
            "      shape {\n",
            "      }\n",
            "    }\n",
            "  }\n",
            "}\n",
            "\n",
            "2021-05-08 14:21:27.075311: I tensorflow/compiler/mlir/mlir_graph_optimization_pass.cc:116] None of the MLIR optimization passes are enabled (registered 2)\n",
            "2021-05-08 14:21:27.076724: I tensorflow/core/platform/profile_utils/cpu_utils.cc:112] CPU Frequency: 2199995000 Hz\n",
            "Epoch 1/3\n",
            "WARNING:tensorflow:The parameters `output_attentions`, `output_hidden_states` and `use_cache` cannot be updated when calling a model.They have to be set to True/False in the config object (i.e.: `config=XConfig.from_pretrained('name', output_attentions=True)`).\n",
            "05/08/2021 14:21:28 - WARNING - tensorflow -   The parameters `output_attentions`, `output_hidden_states` and `use_cache` cannot be updated when calling a model.They have to be set to True/False in the config object (i.e.: `config=XConfig.from_pretrained('name', output_attentions=True)`).\n",
            "WARNING:tensorflow:The parameter `return_dict` cannot be set in graph mode and will always be set to `True`.\n",
            "05/08/2021 14:21:29 - WARNING - tensorflow -   The parameter `return_dict` cannot be set in graph mode and will always be set to `True`.\n",
            "WARNING:tensorflow:The parameters `output_attentions`, `output_hidden_states` and `use_cache` cannot be updated when calling a model.They have to be set to True/False in the config object (i.e.: `config=XConfig.from_pretrained('name', output_attentions=True)`).\n",
            "05/08/2021 14:21:33 - WARNING - tensorflow -   The parameters `output_attentions`, `output_hidden_states` and `use_cache` cannot be updated when calling a model.They have to be set to True/False in the config object (i.e.: `config=XConfig.from_pretrained('name', output_attentions=True)`).\n",
            "WARNING:tensorflow:The parameter `return_dict` cannot be set in graph mode and will always be set to `True`.\n",
            "05/08/2021 14:21:33 - WARNING - tensorflow -   The parameter `return_dict` cannot be set in graph mode and will always be set to `True`.\n",
            "298/298 [==============================] - ETA: 0s - loss: 0.5343 - accuracy: 0.72342021-05-08 14:22:23.330610: W tensorflow/core/grappler/optimizers/data/auto_shard.cc:656] In AUTO-mode, and switching to DATA-based sharding, instead of FILE-based sharding as we cannot find appropriate reader dataset op(s) to shard. Error: Found an unshardable source dataset: name: \"TensorSliceDataset/_3\"\n",
            "op: \"TensorSliceDataset\"\n",
            "input: \"Placeholder/_0\"\n",
            "input: \"Placeholder/_1\"\n",
            "input: \"Placeholder/_2\"\n",
            "attr {\n",
            "  key: \"Toutput_types\"\n",
            "  value {\n",
            "    list {\n",
            "      type: DT_VARIANT\n",
            "      type: DT_VARIANT\n",
            "      type: DT_INT64\n",
            "    }\n",
            "  }\n",
            "}\n",
            "attr {\n",
            "  key: \"output_shapes\"\n",
            "  value {\n",
            "    list {\n",
            "      shape {\n",
            "      }\n",
            "      shape {\n",
            "      }\n",
            "      shape {\n",
            "      }\n",
            "    }\n",
            "  }\n",
            "}\n",
            "\n",
            "WARNING:tensorflow:The parameters `output_attentions`, `output_hidden_states` and `use_cache` cannot be updated when calling a model.They have to be set to True/False in the config object (i.e.: `config=XConfig.from_pretrained('name', output_attentions=True)`).\n",
            "05/08/2021 14:22:23 - WARNING - tensorflow -   The parameters `output_attentions`, `output_hidden_states` and `use_cache` cannot be updated when calling a model.They have to be set to True/False in the config object (i.e.: `config=XConfig.from_pretrained('name', output_attentions=True)`).\n",
            "WARNING:tensorflow:The parameter `return_dict` cannot be set in graph mode and will always be set to `True`.\n",
            "05/08/2021 14:22:23 - WARNING - tensorflow -   The parameter `return_dict` cannot be set in graph mode and will always be set to `True`.\n",
            "298/298 [==============================] - 61s 167ms/step - loss: 0.5341 - accuracy: 0.7236 - val_loss: 0.4258 - val_accuracy: 0.8084\n",
            "Epoch 2/3\n",
            "298/298 [==============================] - 50s 167ms/step - loss: 0.3168 - accuracy: 0.8689 - val_loss: 0.4118 - val_accuracy: 0.8231\n",
            "Epoch 3/3\n",
            "298/298 [==============================] - 50s 168ms/step - loss: 0.1664 - accuracy: 0.9369 - val_loss: 0.5038 - val_accuracy: 0.8064\n",
            "Traceback (most recent call last):\n",
            "  File \"transformers/examples/tensorflow/text-classification/run_text_classification.py\", line 534, in <module>\n",
            "    main()\n",
            "  File \"transformers/examples/tensorflow/text-classification/run_text_classification.py\", line 525, in main\n",
            "    if \"label\" in datasets[\"test\"].features:\n",
            "KeyError: 'test'\n"
          ],
          "name": "stdout"
        }
      ]
    },
    {
      "cell_type": "code",
      "metadata": {
        "id": "z7_uus9LUbnu"
      },
      "source": [
        ""
      ],
      "execution_count": null,
      "outputs": []
    }
  ]
}